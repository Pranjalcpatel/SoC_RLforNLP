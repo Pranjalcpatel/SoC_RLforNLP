{
  "nbformat": 4,
  "nbformat_minor": 0,
  "metadata": {
    "colab": {
      "provenance": []
    },
    "kernelspec": {
      "name": "python3",
      "display_name": "Python 3"
    },
    "language_info": {
      "name": "python"
    }
  },
  "cells": [
    {
      "cell_type": "markdown",
      "source": [
        "#Problem Statement"
      ],
      "metadata": {
        "id": "gJGoluCP47xZ"
      }
    },
    {
      "cell_type": "markdown",
      "source": [
        "In this task you are supposed to use NLP for encoding text and classifying an airline\n",
        " review to its corresponding rating (1-5) (essentially sentiment analysis). You are\n",
        " supposed to use the reviews dataset given here. The goal here is to use NLP\n",
        " techniques like TFIDF encoding or word2vec encoders(look these up) to encode\n",
        " each review as a vector and then use machine learning to train a model to recognise\n",
        " the rating or any given review text. You may use libraries such as nltk to process the\n",
        " text."
      ],
      "metadata": {
        "id": "26-XcZwo4_CT"
      }
    },
    {
      "cell_type": "code",
      "execution_count": null,
      "metadata": {
        "id": "xsOIS-Oh2PeE"
      },
      "outputs": [],
      "source": [
        "import numpy as np\n",
        "import pandas as pd\n",
        "import re #pattern matching etc\n",
        "from nltk.corpus import stopwords #NLTK nat lang toolkit\n",
        "from nltk.stem.porter import PorterStemmer\n",
        "from sklearn.feature_extraction.text import TfidfVectorizer\n",
        "from sklearn.model_selection import train_test_split\n",
        "from sklearn.linear_model import LogisticRegression\n",
        "from sklearn.metrics import accuracy_score"
      ]
    },
    {
      "cell_type": "code",
      "source": [
        "import nltk\n",
        "nltk.download('stopwords')"
      ],
      "metadata": {
        "id": "wyB_Thim6iJ3",
        "colab": {
          "base_uri": "https://localhost:8080/"
        },
        "outputId": "54f0815b-73b6-4d04-d107-e12f23afd67e"
      },
      "execution_count": null,
      "outputs": [
        {
          "output_type": "stream",
          "name": "stderr",
          "text": [
            "[nltk_data] Downloading package stopwords to /root/nltk_data...\n",
            "[nltk_data]   Package stopwords is already up-to-date!\n"
          ]
        },
        {
          "output_type": "execute_result",
          "data": {
            "text/plain": [
              "True"
            ]
          },
          "metadata": {},
          "execution_count": 16
        }
      ]
    },
    {
      "cell_type": "code",
      "source": [
        "#printing stopwords in English\n",
        "print(stopwords.words('english'))"
      ],
      "metadata": {
        "id": "NocpSF3K6p07",
        "colab": {
          "base_uri": "https://localhost:8080/"
        },
        "outputId": "ab51ec07-19b3-4aad-e878-1c8b5fcbbb6a"
      },
      "execution_count": null,
      "outputs": [
        {
          "output_type": "stream",
          "name": "stdout",
          "text": [
            "['i', 'me', 'my', 'myself', 'we', 'our', 'ours', 'ourselves', 'you', \"you're\", \"you've\", \"you'll\", \"you'd\", 'your', 'yours', 'yourself', 'yourselves', 'he', 'him', 'his', 'himself', 'she', \"she's\", 'her', 'hers', 'herself', 'it', \"it's\", 'its', 'itself', 'they', 'them', 'their', 'theirs', 'themselves', 'what', 'which', 'who', 'whom', 'this', 'that', \"that'll\", 'these', 'those', 'am', 'is', 'are', 'was', 'were', 'be', 'been', 'being', 'have', 'has', 'had', 'having', 'do', 'does', 'did', 'doing', 'a', 'an', 'the', 'and', 'but', 'if', 'or', 'because', 'as', 'until', 'while', 'of', 'at', 'by', 'for', 'with', 'about', 'against', 'between', 'into', 'through', 'during', 'before', 'after', 'above', 'below', 'to', 'from', 'up', 'down', 'in', 'out', 'on', 'off', 'over', 'under', 'again', 'further', 'then', 'once', 'here', 'there', 'when', 'where', 'why', 'how', 'all', 'any', 'both', 'each', 'few', 'more', 'most', 'other', 'some', 'such', 'no', 'nor', 'not', 'only', 'own', 'same', 'so', 'than', 'too', 'very', 's', 't', 'can', 'will', 'just', 'don', \"don't\", 'should', \"should've\", 'now', 'd', 'll', 'm', 'o', 're', 've', 'y', 'ain', 'aren', \"aren't\", 'couldn', \"couldn't\", 'didn', \"didn't\", 'doesn', \"doesn't\", 'hadn', \"hadn't\", 'hasn', \"hasn't\", 'haven', \"haven't\", 'isn', \"isn't\", 'ma', 'mightn', \"mightn't\", 'mustn', \"mustn't\", 'needn', \"needn't\", 'shan', \"shan't\", 'shouldn', \"shouldn't\", 'wasn', \"wasn't\", 'weren', \"weren't\", 'won', \"won't\", 'wouldn', \"wouldn't\"]\n"
          ]
        }
      ]
    },
    {
      "cell_type": "code",
      "source": [
        "#stopwords do not add significant influential meaning or context in the text"
      ],
      "metadata": {
        "id": "IsXsxs288zPl"
      },
      "execution_count": null,
      "outputs": []
    },
    {
      "cell_type": "markdown",
      "source": [
        "#Data Processing"
      ],
      "metadata": {
        "id": "AuEayFu_9DFM"
      }
    },
    {
      "cell_type": "code",
      "source": [
        "#loading data from csv file to pandas"
      ],
      "metadata": {
        "id": "s7Sx5mTs9GGr"
      },
      "execution_count": null,
      "outputs": []
    },
    {
      "cell_type": "code",
      "source": [
        "data=pd.read_csv('/content/singapore_airlines_reviews.csv', encoding='ISO-8859-1')\n",
        "# Using this encoding ensures that the text in the CSV file is read correctly, especially if it contains special characters that are not present in the standard ASCII character set."
      ],
      "metadata": {
        "id": "6I7LXOtK9KwZ"
      },
      "execution_count": null,
      "outputs": []
    },
    {
      "cell_type": "code",
      "source": [
        "#shape of the data\n",
        "data.shape"
      ],
      "metadata": {
        "colab": {
          "base_uri": "https://localhost:8080/"
        },
        "id": "eQB5RRsO-M0g",
        "outputId": "738beb82-3025-46b8-ea1f-a03ec3c66a26"
      },
      "execution_count": null,
      "outputs": [
        {
          "output_type": "execute_result",
          "data": {
            "text/plain": [
              "(10000, 7)"
            ]
          },
          "metadata": {},
          "execution_count": 22
        }
      ]
    },
    {
      "cell_type": "code",
      "source": [
        "#first 5 rows\n",
        "data.head()"
      ],
      "metadata": {
        "colab": {
          "base_uri": "https://localhost:8080/",
          "height": 206
        },
        "id": "bAkiA_Zd-Q1N",
        "outputId": "8d689006-598f-4e7e-f779-4f06847665cc"
      },
      "execution_count": null,
      "outputs": [
        {
          "output_type": "execute_result",
          "data": {
            "text/plain": [
              "         ï»¿\"published_date\" published_platform  rating    type  \\\n",
              "0  2024-03-12T14:41:14-04:00            Desktop       3  review   \n",
              "1  2024-03-11T19:39:13-04:00            Desktop       5  review   \n",
              "2  2024-03-11T12:20:23-04:00            Desktop       1  review   \n",
              "3  2024-03-11T07:12:27-04:00            Desktop       5  review   \n",
              "4  2024-03-10T05:34:18-04:00            Desktop       2  review   \n",
              "\n",
              "                                                text  \\\n",
              "0  We used this airline to go from Singapore to L...   \n",
              "1  The service on Singapore Airlines Suites Class...   \n",
              "2  Booked, paid and received email confirmation f...   \n",
              "3  Best airline in the world, seats, food, servic...   \n",
              "4  Premium Economy Seating on Singapore Airlines ...   \n",
              "\n",
              "                                               title  helpful_votes  \n",
              "0                                                 Ok              0  \n",
              "1  The service in Suites Class makes one feel lik...              0  \n",
              "2                       Donât give them your money              0  \n",
              "3                          Best Airline in the World              0  \n",
              "4  Premium Economy Seating on Singapore Airlines ...              0  "
            ],
            "text/html": [
              "\n",
              "  <div id=\"df-23acc147-28dc-4833-b4a1-c046fb9d8861\" class=\"colab-df-container\">\n",
              "    <div>\n",
              "<style scoped>\n",
              "    .dataframe tbody tr th:only-of-type {\n",
              "        vertical-align: middle;\n",
              "    }\n",
              "\n",
              "    .dataframe tbody tr th {\n",
              "        vertical-align: top;\n",
              "    }\n",
              "\n",
              "    .dataframe thead th {\n",
              "        text-align: right;\n",
              "    }\n",
              "</style>\n",
              "<table border=\"1\" class=\"dataframe\">\n",
              "  <thead>\n",
              "    <tr style=\"text-align: right;\">\n",
              "      <th></th>\n",
              "      <th>ï»¿\"published_date\"</th>\n",
              "      <th>published_platform</th>\n",
              "      <th>rating</th>\n",
              "      <th>type</th>\n",
              "      <th>text</th>\n",
              "      <th>title</th>\n",
              "      <th>helpful_votes</th>\n",
              "    </tr>\n",
              "  </thead>\n",
              "  <tbody>\n",
              "    <tr>\n",
              "      <th>0</th>\n",
              "      <td>2024-03-12T14:41:14-04:00</td>\n",
              "      <td>Desktop</td>\n",
              "      <td>3</td>\n",
              "      <td>review</td>\n",
              "      <td>We used this airline to go from Singapore to L...</td>\n",
              "      <td>Ok</td>\n",
              "      <td>0</td>\n",
              "    </tr>\n",
              "    <tr>\n",
              "      <th>1</th>\n",
              "      <td>2024-03-11T19:39:13-04:00</td>\n",
              "      <td>Desktop</td>\n",
              "      <td>5</td>\n",
              "      <td>review</td>\n",
              "      <td>The service on Singapore Airlines Suites Class...</td>\n",
              "      <td>The service in Suites Class makes one feel lik...</td>\n",
              "      <td>0</td>\n",
              "    </tr>\n",
              "    <tr>\n",
              "      <th>2</th>\n",
              "      <td>2024-03-11T12:20:23-04:00</td>\n",
              "      <td>Desktop</td>\n",
              "      <td>1</td>\n",
              "      <td>review</td>\n",
              "      <td>Booked, paid and received email confirmation f...</td>\n",
              "      <td>Donât give them your money</td>\n",
              "      <td>0</td>\n",
              "    </tr>\n",
              "    <tr>\n",
              "      <th>3</th>\n",
              "      <td>2024-03-11T07:12:27-04:00</td>\n",
              "      <td>Desktop</td>\n",
              "      <td>5</td>\n",
              "      <td>review</td>\n",
              "      <td>Best airline in the world, seats, food, servic...</td>\n",
              "      <td>Best Airline in the World</td>\n",
              "      <td>0</td>\n",
              "    </tr>\n",
              "    <tr>\n",
              "      <th>4</th>\n",
              "      <td>2024-03-10T05:34:18-04:00</td>\n",
              "      <td>Desktop</td>\n",
              "      <td>2</td>\n",
              "      <td>review</td>\n",
              "      <td>Premium Economy Seating on Singapore Airlines ...</td>\n",
              "      <td>Premium Economy Seating on Singapore Airlines ...</td>\n",
              "      <td>0</td>\n",
              "    </tr>\n",
              "  </tbody>\n",
              "</table>\n",
              "</div>\n",
              "    <div class=\"colab-df-buttons\">\n",
              "\n",
              "  <div class=\"colab-df-container\">\n",
              "    <button class=\"colab-df-convert\" onclick=\"convertToInteractive('df-23acc147-28dc-4833-b4a1-c046fb9d8861')\"\n",
              "            title=\"Convert this dataframe to an interactive table.\"\n",
              "            style=\"display:none;\">\n",
              "\n",
              "  <svg xmlns=\"http://www.w3.org/2000/svg\" height=\"24px\" viewBox=\"0 -960 960 960\">\n",
              "    <path d=\"M120-120v-720h720v720H120Zm60-500h600v-160H180v160Zm220 220h160v-160H400v160Zm0 220h160v-160H400v160ZM180-400h160v-160H180v160Zm440 0h160v-160H620v160ZM180-180h160v-160H180v160Zm440 0h160v-160H620v160Z\"/>\n",
              "  </svg>\n",
              "    </button>\n",
              "\n",
              "  <style>\n",
              "    .colab-df-container {\n",
              "      display:flex;\n",
              "      gap: 12px;\n",
              "    }\n",
              "\n",
              "    .colab-df-convert {\n",
              "      background-color: #E8F0FE;\n",
              "      border: none;\n",
              "      border-radius: 50%;\n",
              "      cursor: pointer;\n",
              "      display: none;\n",
              "      fill: #1967D2;\n",
              "      height: 32px;\n",
              "      padding: 0 0 0 0;\n",
              "      width: 32px;\n",
              "    }\n",
              "\n",
              "    .colab-df-convert:hover {\n",
              "      background-color: #E2EBFA;\n",
              "      box-shadow: 0px 1px 2px rgba(60, 64, 67, 0.3), 0px 1px 3px 1px rgba(60, 64, 67, 0.15);\n",
              "      fill: #174EA6;\n",
              "    }\n",
              "\n",
              "    .colab-df-buttons div {\n",
              "      margin-bottom: 4px;\n",
              "    }\n",
              "\n",
              "    [theme=dark] .colab-df-convert {\n",
              "      background-color: #3B4455;\n",
              "      fill: #D2E3FC;\n",
              "    }\n",
              "\n",
              "    [theme=dark] .colab-df-convert:hover {\n",
              "      background-color: #434B5C;\n",
              "      box-shadow: 0px 1px 3px 1px rgba(0, 0, 0, 0.15);\n",
              "      filter: drop-shadow(0px 1px 2px rgba(0, 0, 0, 0.3));\n",
              "      fill: #FFFFFF;\n",
              "    }\n",
              "  </style>\n",
              "\n",
              "    <script>\n",
              "      const buttonEl =\n",
              "        document.querySelector('#df-23acc147-28dc-4833-b4a1-c046fb9d8861 button.colab-df-convert');\n",
              "      buttonEl.style.display =\n",
              "        google.colab.kernel.accessAllowed ? 'block' : 'none';\n",
              "\n",
              "      async function convertToInteractive(key) {\n",
              "        const element = document.querySelector('#df-23acc147-28dc-4833-b4a1-c046fb9d8861');\n",
              "        const dataTable =\n",
              "          await google.colab.kernel.invokeFunction('convertToInteractive',\n",
              "                                                    [key], {});\n",
              "        if (!dataTable) return;\n",
              "\n",
              "        const docLinkHtml = 'Like what you see? Visit the ' +\n",
              "          '<a target=\"_blank\" href=https://colab.research.google.com/notebooks/data_table.ipynb>data table notebook</a>'\n",
              "          + ' to learn more about interactive tables.';\n",
              "        element.innerHTML = '';\n",
              "        dataTable['output_type'] = 'display_data';\n",
              "        await google.colab.output.renderOutput(dataTable, element);\n",
              "        const docLink = document.createElement('div');\n",
              "        docLink.innerHTML = docLinkHtml;\n",
              "        element.appendChild(docLink);\n",
              "      }\n",
              "    </script>\n",
              "  </div>\n",
              "\n",
              "\n",
              "<div id=\"df-8a5699b9-4581-4562-b4ba-586af5932f7e\">\n",
              "  <button class=\"colab-df-quickchart\" onclick=\"quickchart('df-8a5699b9-4581-4562-b4ba-586af5932f7e')\"\n",
              "            title=\"Suggest charts\"\n",
              "            style=\"display:none;\">\n",
              "\n",
              "<svg xmlns=\"http://www.w3.org/2000/svg\" height=\"24px\"viewBox=\"0 0 24 24\"\n",
              "     width=\"24px\">\n",
              "    <g>\n",
              "        <path d=\"M19 3H5c-1.1 0-2 .9-2 2v14c0 1.1.9 2 2 2h14c1.1 0 2-.9 2-2V5c0-1.1-.9-2-2-2zM9 17H7v-7h2v7zm4 0h-2V7h2v10zm4 0h-2v-4h2v4z\"/>\n",
              "    </g>\n",
              "</svg>\n",
              "  </button>\n",
              "\n",
              "<style>\n",
              "  .colab-df-quickchart {\n",
              "      --bg-color: #E8F0FE;\n",
              "      --fill-color: #1967D2;\n",
              "      --hover-bg-color: #E2EBFA;\n",
              "      --hover-fill-color: #174EA6;\n",
              "      --disabled-fill-color: #AAA;\n",
              "      --disabled-bg-color: #DDD;\n",
              "  }\n",
              "\n",
              "  [theme=dark] .colab-df-quickchart {\n",
              "      --bg-color: #3B4455;\n",
              "      --fill-color: #D2E3FC;\n",
              "      --hover-bg-color: #434B5C;\n",
              "      --hover-fill-color: #FFFFFF;\n",
              "      --disabled-bg-color: #3B4455;\n",
              "      --disabled-fill-color: #666;\n",
              "  }\n",
              "\n",
              "  .colab-df-quickchart {\n",
              "    background-color: var(--bg-color);\n",
              "    border: none;\n",
              "    border-radius: 50%;\n",
              "    cursor: pointer;\n",
              "    display: none;\n",
              "    fill: var(--fill-color);\n",
              "    height: 32px;\n",
              "    padding: 0;\n",
              "    width: 32px;\n",
              "  }\n",
              "\n",
              "  .colab-df-quickchart:hover {\n",
              "    background-color: var(--hover-bg-color);\n",
              "    box-shadow: 0 1px 2px rgba(60, 64, 67, 0.3), 0 1px 3px 1px rgba(60, 64, 67, 0.15);\n",
              "    fill: var(--button-hover-fill-color);\n",
              "  }\n",
              "\n",
              "  .colab-df-quickchart-complete:disabled,\n",
              "  .colab-df-quickchart-complete:disabled:hover {\n",
              "    background-color: var(--disabled-bg-color);\n",
              "    fill: var(--disabled-fill-color);\n",
              "    box-shadow: none;\n",
              "  }\n",
              "\n",
              "  .colab-df-spinner {\n",
              "    border: 2px solid var(--fill-color);\n",
              "    border-color: transparent;\n",
              "    border-bottom-color: var(--fill-color);\n",
              "    animation:\n",
              "      spin 1s steps(1) infinite;\n",
              "  }\n",
              "\n",
              "  @keyframes spin {\n",
              "    0% {\n",
              "      border-color: transparent;\n",
              "      border-bottom-color: var(--fill-color);\n",
              "      border-left-color: var(--fill-color);\n",
              "    }\n",
              "    20% {\n",
              "      border-color: transparent;\n",
              "      border-left-color: var(--fill-color);\n",
              "      border-top-color: var(--fill-color);\n",
              "    }\n",
              "    30% {\n",
              "      border-color: transparent;\n",
              "      border-left-color: var(--fill-color);\n",
              "      border-top-color: var(--fill-color);\n",
              "      border-right-color: var(--fill-color);\n",
              "    }\n",
              "    40% {\n",
              "      border-color: transparent;\n",
              "      border-right-color: var(--fill-color);\n",
              "      border-top-color: var(--fill-color);\n",
              "    }\n",
              "    60% {\n",
              "      border-color: transparent;\n",
              "      border-right-color: var(--fill-color);\n",
              "    }\n",
              "    80% {\n",
              "      border-color: transparent;\n",
              "      border-right-color: var(--fill-color);\n",
              "      border-bottom-color: var(--fill-color);\n",
              "    }\n",
              "    90% {\n",
              "      border-color: transparent;\n",
              "      border-bottom-color: var(--fill-color);\n",
              "    }\n",
              "  }\n",
              "</style>\n",
              "\n",
              "  <script>\n",
              "    async function quickchart(key) {\n",
              "      const quickchartButtonEl =\n",
              "        document.querySelector('#' + key + ' button');\n",
              "      quickchartButtonEl.disabled = true;  // To prevent multiple clicks.\n",
              "      quickchartButtonEl.classList.add('colab-df-spinner');\n",
              "      try {\n",
              "        const charts = await google.colab.kernel.invokeFunction(\n",
              "            'suggestCharts', [key], {});\n",
              "      } catch (error) {\n",
              "        console.error('Error during call to suggestCharts:', error);\n",
              "      }\n",
              "      quickchartButtonEl.classList.remove('colab-df-spinner');\n",
              "      quickchartButtonEl.classList.add('colab-df-quickchart-complete');\n",
              "    }\n",
              "    (() => {\n",
              "      let quickchartButtonEl =\n",
              "        document.querySelector('#df-8a5699b9-4581-4562-b4ba-586af5932f7e button');\n",
              "      quickchartButtonEl.style.display =\n",
              "        google.colab.kernel.accessAllowed ? 'block' : 'none';\n",
              "    })();\n",
              "  </script>\n",
              "</div>\n",
              "\n",
              "    </div>\n",
              "  </div>\n"
            ],
            "application/vnd.google.colaboratory.intrinsic+json": {
              "type": "dataframe",
              "variable_name": "data",
              "summary": "{\n  \"name\": \"data\",\n  \"rows\": 10000,\n  \"fields\": [\n    {\n      \"column\": \"\\u00ef\\u00bb\\u00bf\\\"published_date\\\"\",\n      \"properties\": {\n        \"dtype\": \"object\",\n        \"num_unique_values\": 9997,\n        \"samples\": [\n          \"2019-08-13T09:20:12-04:00\",\n          \"2019-08-18T08:08:12-04:00\",\n          \"2020-02-28T10:26:36-05:00\"\n        ],\n        \"semantic_type\": \"\",\n        \"description\": \"\"\n      }\n    },\n    {\n      \"column\": \"published_platform\",\n      \"properties\": {\n        \"dtype\": \"category\",\n        \"num_unique_values\": 2,\n        \"samples\": [\n          \"Mobile\",\n          \"Desktop\"\n        ],\n        \"semantic_type\": \"\",\n        \"description\": \"\"\n      }\n    },\n    {\n      \"column\": \"rating\",\n      \"properties\": {\n        \"dtype\": \"number\",\n        \"std\": 1,\n        \"min\": 1,\n        \"max\": 5,\n        \"num_unique_values\": 5,\n        \"samples\": [\n          5,\n          4\n        ],\n        \"semantic_type\": \"\",\n        \"description\": \"\"\n      }\n    },\n    {\n      \"column\": \"type\",\n      \"properties\": {\n        \"dtype\": \"category\",\n        \"num_unique_values\": 1,\n        \"samples\": [\n          \"review\"\n        ],\n        \"semantic_type\": \"\",\n        \"description\": \"\"\n      }\n    },\n    {\n      \"column\": \"text\",\n      \"properties\": {\n        \"dtype\": \"string\",\n        \"num_unique_values\": 10000,\n        \"samples\": [\n          \"Good flight. The seats were comfortable and we had enough leg room.  It is just annoying when the people in front put there seats back and then watch the entertainment, it seems a case of\\\" I can so I will\\\".\\nThe food was good except the breakfast but overall good choice.\\nWe would use Singapore airlines again, the cabin crew were very nice and efficient and the flight overall wasn't too bad for such a long time.\"\n        ],\n        \"semantic_type\": \"\",\n        \"description\": \"\"\n      }\n    },\n    {\n      \"column\": \"title\",\n      \"properties\": {\n        \"dtype\": \"string\",\n        \"num_unique_values\": 8476,\n        \"samples\": [\n          \"Endless saga of changes to booking\"\n        ],\n        \"semantic_type\": \"\",\n        \"description\": \"\"\n      }\n    },\n    {\n      \"column\": \"helpful_votes\",\n      \"properties\": {\n        \"dtype\": \"number\",\n        \"std\": 2,\n        \"min\": 0,\n        \"max\": 158,\n        \"num_unique_values\": 27,\n        \"samples\": [\n          21\n        ],\n        \"semantic_type\": \"\",\n        \"description\": \"\"\n      }\n    }\n  ]\n}"
            }
          },
          "metadata": {},
          "execution_count": 23
        }
      ]
    },
    {
      "cell_type": "code",
      "source": [
        "#check for any missing values"
      ],
      "metadata": {
        "id": "BVnhr6jL-Wjy"
      },
      "execution_count": null,
      "outputs": []
    },
    {
      "cell_type": "code",
      "source": [
        "data.isnull().sum()"
      ],
      "metadata": {
        "colab": {
          "base_uri": "https://localhost:8080/"
        },
        "id": "j4TX_J3W-1xt",
        "outputId": "1f44ffe1-cf10-44d7-c261-2a6f93412d2f"
      },
      "execution_count": null,
      "outputs": [
        {
          "output_type": "execute_result",
          "data": {
            "text/plain": [
              "ï»¿\"published_date\"    0\n",
              "published_platform     0\n",
              "rating                 0\n",
              "type                   0\n",
              "text                   0\n",
              "title                  1\n",
              "helpful_votes          0\n",
              "dtype: int64"
            ]
          },
          "metadata": {},
          "execution_count": 25
        }
      ]
    },
    {
      "cell_type": "code",
      "source": [
        "data['rating'].value_counts()"
      ],
      "metadata": {
        "colab": {
          "base_uri": "https://localhost:8080/"
        },
        "id": "mJPm1Hnh_C8Z",
        "outputId": "0bceac94-c12e-4c2b-f98b-a677e0954cf9"
      },
      "execution_count": null,
      "outputs": [
        {
          "output_type": "execute_result",
          "data": {
            "text/plain": [
              "rating\n",
              "5    5424\n",
              "4    1967\n",
              "1    1057\n",
              "3    1009\n",
              "2     543\n",
              "Name: count, dtype: int64"
            ]
          },
          "metadata": {},
          "execution_count": 26
        }
      ]
    },
    {
      "cell_type": "code",
      "source": [
        "#imbalance in data hence also need to handle class imbalance"
      ],
      "metadata": {
        "id": "3byj9ejT_pwP"
      },
      "execution_count": null,
      "outputs": []
    },
    {
      "cell_type": "markdown",
      "source": [
        "##Stemming"
      ],
      "metadata": {
        "id": "OR-tt63tCO7T"
      }
    },
    {
      "cell_type": "markdown",
      "source": [
        "[link text](https://)process of reducing word to its root\n",
        "eg runner, ran --> run"
      ],
      "metadata": {
        "id": "vQgeEjqtCUds"
      }
    },
    {
      "cell_type": "code",
      "source": [
        "port_stem=PorterStemmer()"
      ],
      "metadata": {
        "id": "HXG8xHhJB76v"
      },
      "execution_count": null,
      "outputs": []
    },
    {
      "cell_type": "code",
      "source": [
        "def stemming(content):\n",
        "\n",
        "  stemmed_content=re.sub('[^a-zA-Z]',' ',content) #removing all non alphabets\n",
        "  stemmed_content=stemmed_content.lower() #convert to lower case\n",
        "  stemmed_content=stemmed_content.split()\n",
        "  stemmed_content=[port_stem.stem(word) for word in stemmed_content if not word in stopwords.words('english')]\n",
        "  #stem if word present in stemmed_comment but not in stopwords\n",
        "  stemmed_content=' '.join(stemmed_content)\n",
        "\n",
        "  return stemmed_content\n"
      ],
      "metadata": {
        "id": "fI3kas5_CkK4"
      },
      "execution_count": null,
      "outputs": []
    },
    {
      "cell_type": "code",
      "source": [
        "data['stemmed_content']=data['text'].apply(stemming)"
      ],
      "metadata": {
        "id": "OnSTZEcdFCIg"
      },
      "execution_count": null,
      "outputs": []
    },
    {
      "cell_type": "code",
      "source": [
        "print(data['stemmed_content'])"
      ],
      "metadata": {
        "colab": {
          "base_uri": "https://localhost:8080/"
        },
        "id": "8rTZ1JBxFNFq",
        "outputId": "0608d592-2320-476b-f70c-9755c495a095"
      },
      "execution_count": null,
      "outputs": [
        {
          "output_type": "stream",
          "name": "stdout",
          "text": [
            "0       use airlin go singapor london heathrow issu ti...\n",
            "1       servic singapor airlin suit class noth excel c...\n",
            "2       book paid receiv email confirm extra legroom s...\n",
            "3       best airlin world seat food servic brilliant c...\n",
            "4       premium economi seat singapor airlin narrow se...\n",
            "                              ...                        \n",
            "9995    first part done singapor airlin accept comfort...\n",
            "9996    great flight singapor air great uniqu servic o...\n",
            "9997    flew busi class frankfurt via singapor brisban...\n",
            "9998    alway aircraft spotlessli present board carpet...\n",
            "9999    alway singapor airlin done red eye flight sect...\n",
            "Name: stemmed_content, Length: 10000, dtype: object\n"
          ]
        }
      ]
    },
    {
      "cell_type": "code",
      "source": [
        "#separating data and label"
      ],
      "metadata": {
        "id": "lPwP0onGFzjp"
      },
      "execution_count": null,
      "outputs": []
    },
    {
      "cell_type": "code",
      "source": [
        "X=data['stemmed_content'].values\n",
        "y=data['rating'].values"
      ],
      "metadata": {
        "id": "99JrVYqmGDzj"
      },
      "execution_count": null,
      "outputs": []
    },
    {
      "cell_type": "code",
      "source": [
        "print(X)"
      ],
      "metadata": {
        "colab": {
          "base_uri": "https://localhost:8080/"
        },
        "id": "lqUxncDxGQ7R",
        "outputId": "bc5d1c1c-011d-4bdc-c530-cbc23928d8dc"
      },
      "execution_count": null,
      "outputs": [
        {
          "output_type": "stream",
          "name": "stdout",
          "text": [
            "['use airlin go singapor london heathrow issu ticket cancel one ticket tri get sort cost lot money due roam charg lengthi phone call need get ticket reinstat tri charg vari amount resolv poor servic got airport check desk due issu meant onlin check done premium economi spaciou two seat either side plane seat middl plane seem rel new brand new legroom good seat wider bigger arm rest two seat fold away tray tabl good choic movi thing tv show game etc food ok seem much differ economi standard flight crew seem friendli enough realli go isl drink mayb twice whole hour flight airlin would done quit often overal flight ok seat comfi legroom good food ok flight crew could attent especi premium economi would expect servic slightli better economi'\n",
            " 'servic singapor airlin suit class noth excel cabin crew warm friendli importantli came across sincer genuin throughout flight interact lead stewardess sharifah went way ensur comfort well taken care saw patrol cabin consist check need anyth could see look suit alway read assist us even offer make bed breakfast run could rest ask could walk around deck aircraft sharifah volunt show around knowledg configur aircraft even point best seat cabin class walk suit class cabin resembl privat cabin onboard sleeper train give suit class passeng form privaci cut hole cabin door shape flower design somewhat reduc privaci got suit class cabin two lavatori front aircraft cater six suit class passeng lavatori right bigger two featur vaniti tabl toilet sink plenti space lavatori passeng chang laliqu pyjama provid suit class passeng lavatori left smaller less luxuri passeng use lavatori still find spaciou chang pyjama lavatori still provid amen larger lavatori suit size biggest foremost suit f smallest f aftmost suit measur occupi middl suit real estat suit fit chair bed wall suit print floral design enhanc luxuri vibe come across loud top consist design languag cabin side tabl sit entranc suit flight attend use side tabl place drink snack without need deploy tabl tabl solid huge provid ton space suit class passeng tabl swivel passeng get seat without stow away seat first thing caught eye enter suit comfort overs pillow place onto seat provid passeng greater comfort especi reclin mode seat measur wide reclin calf rest seat deploy seat swivel face tv front aircraft green light control panel would light indic calf rest deploy swivel seat control electron via control panel built left side armrest tablet provid suit two power socket came fit usb charg outlet suit one side side tabl entranc suit anoth storag cubbi window singapor airlin suit class featur bed suit top comfort seat singapor airlin use laliqu bed bed found bed sturdi lack term comfort mattress pad tad thin lack cushion two pillow came bed soft like lack storag space suit class onboard singapor airlin besid pocket shelv bulkhead seat small wardrob door due slim design wardrob limit amount thing stow space wardrob passeng hang jacket bottom part wardrob allow stow away backpack storag fit bulkhead suit due shallow design cubbi could use store smaller item singapor airlin design open shelv space singl leather strap beneath cubbi hole singapor airlin fit hd touchscreen tv suit tv swivel touch button either seat tablet face passeng sit seat two ife control suit smaller one stow seat armrest found intuit use ife control via tablet suit'\n",
            " 'book paid receiv email confirm extra legroom seat dec feb check sea gone resold paid seat put us standard seat spine support devic mean requir extra space use hour flight exit wheelchair unabl walk three week holiday tri time reach philippin call centr appal'\n",
            " ...\n",
            " 'flew busi class frankfurt via singapor brisban last month servic superb air crew incred help kind care thought roomi lie flat bed gave us opportun rest ad bonu use sa airport loung rest relax stopov'\n",
            " 'alway aircraft spotlessli present board carpet clean seat greasi finger mark interior cabin line crew attent prompt servic disappoint night flight one meal avail either dinner breakfast content could breakfast dinner'\n",
            " 'alway singapor airlin done red eye flight sector trip singapor osaka back flight long enough full night rest say comfort way cabin crew attent alway readi serv look forward next flight singapor airlin']\n"
          ]
        }
      ]
    },
    {
      "cell_type": "code",
      "source": [
        "print(y)"
      ],
      "metadata": {
        "colab": {
          "base_uri": "https://localhost:8080/"
        },
        "id": "zXLLAMa9GSNj",
        "outputId": "293a61d3-c7d2-4b12-aef2-37fb5ea0b064"
      },
      "execution_count": null,
      "outputs": [
        {
          "output_type": "stream",
          "name": "stdout",
          "text": [
            "[3 5 1 ... 5 4 4]\n"
          ]
        }
      ]
    },
    {
      "cell_type": "code",
      "source": [
        "X.shape"
      ],
      "metadata": {
        "colab": {
          "base_uri": "https://localhost:8080/"
        },
        "id": "DgKnczsytrF0",
        "outputId": "74e3152d-0527-4f84-f75b-0180fa92a02b"
      },
      "execution_count": null,
      "outputs": [
        {
          "output_type": "execute_result",
          "data": {
            "text/plain": [
              "(10000,)"
            ]
          },
          "metadata": {},
          "execution_count": 67
        }
      ]
    },
    {
      "cell_type": "code",
      "source": [
        "y.shape"
      ],
      "metadata": {
        "colab": {
          "base_uri": "https://localhost:8080/"
        },
        "id": "72oRByUHtwFw",
        "outputId": "b32a9dc2-e7f9-460d-9fc5-f79cb8407079"
      },
      "execution_count": null,
      "outputs": [
        {
          "output_type": "execute_result",
          "data": {
            "text/plain": [
              "(10000,)"
            ]
          },
          "metadata": {},
          "execution_count": 68
        }
      ]
    },
    {
      "cell_type": "markdown",
      "source": [
        "#Train Test Split"
      ],
      "metadata": {
        "id": "ykNGm7XiqoVL"
      }
    },
    {
      "cell_type": "code",
      "source": [
        "X_train, X_test, y_train, y_test = train_test_split(X, y, test_size=0.2, random_state=42)"
      ],
      "metadata": {
        "id": "DzwHxdrBqnm4"
      },
      "execution_count": null,
      "outputs": []
    },
    {
      "cell_type": "code",
      "source": [
        "for i in range(1,6):\n",
        "  print(np.sum(y_test==i))"
      ],
      "metadata": {
        "colab": {
          "base_uri": "https://localhost:8080/"
        },
        "id": "2HqrpxNhyKu9",
        "outputId": "e00e9b50-12d3-4e9e-941e-31bb8d8a9804"
      },
      "execution_count": null,
      "outputs": [
        {
          "output_type": "stream",
          "name": "stdout",
          "text": [
            "206\n",
            "110\n",
            "211\n",
            "397\n",
            "1076\n"
          ]
        }
      ]
    },
    {
      "cell_type": "code",
      "source": [
        "print(X_test)"
      ],
      "metadata": {
        "colab": {
          "base_uri": "https://localhost:8080/"
        },
        "id": "lxW0mn53uf9E",
        "outputId": "87dbfc88-b670-4836-c836-b6c77d12bfa6"
      },
      "execution_count": null,
      "outputs": [
        {
          "output_type": "stream",
          "name": "stdout",
          "text": [
            "['good flight seat comfort enough leg room annoy peopl front put seat back watch entertain seem case food good except breakfast overal good choic would use singapor airlin cabin crew nice effici flight overal bad long time'\n",
            " 'z perfect start alreadi check desk knowledg pleasant staff friendli welcom plane door seat comfort good lot room leav person thing flight meal good qualiti wide select og beverag entertain program also top notch enjoy experi one expect day board plane carri safe point b differ flight servic singapor airlin outstand thank keep good work go'\n",
            " 'flight singapor brisban took nois cabin went nearli hour captain assur us aircraft good condit manag get touch ground engin got fix continu fli anoth hour captain made announc say issu plane decid head back singapor decis fair enough safeti passeng crew arriv back singapor put us back anoth plane instead put us hotel refresh good enough crew goe home good rest passeng treat like anim put us anoth flight straight away poor tast singapor airlin happen flew singapor kuala lumpur transit brisban long day night singapor airlin ever thought passeng situat poor poor tast manag singapor airlin'\n",
            " ...\n",
            " 'travel vietnam octob novemb wonder experi plane time staff absolut wonder friendli servic made memor also travel vietnam return brisban recommend highli enough'\n",
            " 'alway fli premium economi singapor usual staff food amaz occas felt disappoint seat great staff unfriendli look like want book cook food lack ask get dessert seat behind told special meal receiv juic arriv hot towel covid think use covid excus still wear thin ask water occas forgot give us coffe meal seat cheap therefor provid adequ appropri servic'\n",
            " 'never fail live expect world best airlin good food good servic good cabin crew great inflight entertain good amount leg room chief stewardess graciou courteo']\n"
          ]
        }
      ]
    },
    {
      "cell_type": "markdown",
      "source": [
        "#Vectorisation of the data"
      ],
      "metadata": {
        "id": "1s2eIebYpc7V"
      }
    },
    {
      "cell_type": "code",
      "source": [
        "#converting textual data to numerical data\n",
        "vectorizer=TfidfVectorizer()\n",
        "\n",
        "X_train=vectorizer.fit_transform(X_train)\n",
        "X_test=vectorizer.transform(X_test)"
      ],
      "metadata": {
        "id": "dRaYt88jpjR2"
      },
      "execution_count": null,
      "outputs": []
    },
    {
      "cell_type": "code",
      "source": [
        "print(X_train)"
      ],
      "metadata": {
        "colab": {
          "base_uri": "https://localhost:8080/"
        },
        "id": "YDiU9Ai8u2qH",
        "outputId": "5448d1f2-1033-4414-a547-05ce9346c472"
      },
      "execution_count": null,
      "outputs": [
        {
          "output_type": "stream",
          "name": "stdout",
          "text": [
            "  (0, 9392)\t0.16172118732491977\n",
            "  (0, 4835)\t0.22030058743769332\n",
            "  (0, 10620)\t0.10503145583012773\n",
            "  (0, 7508)\t0.37756262047244366\n",
            "  (0, 6239)\t0.13361312920764648\n",
            "  (0, 8580)\t0.22770714127116468\n",
            "  (0, 2081)\t0.1251436526631701\n",
            "  (0, 6047)\t0.36154882501059843\n",
            "  (0, 8193)\t0.37756262047244366\n",
            "  (0, 6095)\t0.14137184009501538\n",
            "  (0, 4641)\t0.17696077203751054\n",
            "  (0, 334)\t0.16626901000624597\n",
            "  (0, 5359)\t0.11999454496680712\n",
            "  (0, 6628)\t0.21440277485604642\n",
            "  (0, 8549)\t0.1446537886276372\n",
            "  (0, 17)\t0.16952995807959342\n",
            "  (0, 9073)\t0.2675519341284606\n",
            "  (0, 8241)\t0.06647720821202147\n",
            "  (0, 2947)\t0.15863924914322328\n",
            "  (0, 3774)\t0.11827607098066667\n",
            "  (0, 3580)\t0.11515536465870263\n",
            "  (0, 4065)\t0.19904673529725872\n",
            "  (0, 228)\t0.06136329599290811\n",
            "  (0, 8464)\t0.06182270888239704\n",
            "  (0, 9527)\t0.08552824255636547\n",
            "  :\t:\n",
            "  (7999, 2880)\t0.09675445612064718\n",
            "  (7999, 6107)\t0.06987863849772509\n",
            "  (7999, 6263)\t0.07881306858828888\n",
            "  (7999, 5523)\t0.07835381690445443\n",
            "  (7999, 9440)\t0.09251935227906291\n",
            "  (7999, 3708)\t0.09896682810553642\n",
            "  (7999, 1832)\t0.054932979325669394\n",
            "  (7999, 7151)\t0.07624583381540408\n",
            "  (7999, 5514)\t0.19982123968380036\n",
            "  (7999, 2917)\t0.05876492401976847\n",
            "  (7999, 3994)\t0.04536376936931339\n",
            "  (7999, 3573)\t0.25851593567380987\n",
            "  (7999, 631)\t0.07851677690814327\n",
            "  (7999, 3670)\t0.14214609143968213\n",
            "  (7999, 10108)\t0.06919444173041923\n",
            "  (7999, 7515)\t0.07248662215796632\n",
            "  (7999, 8605)\t0.09134225657108846\n",
            "  (7999, 5427)\t0.06790518986128401\n",
            "  (7999, 5556)\t0.08350522175952178\n",
            "  (7999, 8241)\t0.037360435188840184\n",
            "  (7999, 3774)\t0.06647158632430013\n",
            "  (7999, 3580)\t0.22651208268103085\n",
            "  (7999, 228)\t0.06897279547615187\n",
            "  (7999, 8464)\t0.13897835787764914\n",
            "  (7999, 9527)\t0.09613437293128255\n"
          ]
        }
      ]
    },
    {
      "cell_type": "markdown",
      "source": [
        "#Handling Class imbalance using SMOTE"
      ],
      "metadata": {
        "id": "HNuX9TOVsjoK"
      }
    },
    {
      "cell_type": "code",
      "source": [
        "from imblearn.over_sampling import SMOTE\n",
        "smote = SMOTE(random_state=42)\n",
        "\n",
        "X_train, y_train = smote.fit_resample(X_train, y_train)"
      ],
      "metadata": {
        "id": "nsaYUKBQsih3"
      },
      "execution_count": null,
      "outputs": []
    },
    {
      "cell_type": "code",
      "source": [
        "X_train.shape"
      ],
      "metadata": {
        "colab": {
          "base_uri": "https://localhost:8080/"
        },
        "id": "UMIbP-Y-uzsy",
        "outputId": "f0322e3f-bd68-4b1d-e527-60c22d17ff23"
      },
      "execution_count": null,
      "outputs": [
        {
          "output_type": "execute_result",
          "data": {
            "text/plain": [
              "(21740, 10784)"
            ]
          },
          "metadata": {},
          "execution_count": 76
        }
      ]
    },
    {
      "cell_type": "code",
      "source": [
        "y_train.shape"
      ],
      "metadata": {
        "colab": {
          "base_uri": "https://localhost:8080/"
        },
        "id": "GoA96-a0vFDW",
        "outputId": "e222e410-2bfa-464d-c8e6-8c3b6c6cf72e"
      },
      "execution_count": null,
      "outputs": [
        {
          "output_type": "execute_result",
          "data": {
            "text/plain": [
              "(21740,)"
            ]
          },
          "metadata": {},
          "execution_count": 78
        }
      ]
    },
    {
      "cell_type": "code",
      "source": [
        "for i in range(1,6):\n",
        "  print(np.sum(y_train==i))"
      ],
      "metadata": {
        "colab": {
          "base_uri": "https://localhost:8080/"
        },
        "id": "9iOEc-cavQFU",
        "outputId": "54107321-4ccb-4636-f0c9-ee0025470bf8"
      },
      "execution_count": null,
      "outputs": [
        {
          "output_type": "stream",
          "name": "stdout",
          "text": [
            "4348\n",
            "4348\n",
            "4348\n",
            "4348\n",
            "4348\n"
          ]
        }
      ]
    },
    {
      "cell_type": "markdown",
      "source": [
        "#Building and Training the Model\n"
      ],
      "metadata": {
        "id": "FLWQ3ExNv2ts"
      }
    },
    {
      "cell_type": "code",
      "source": [
        "model=LogisticRegression(max_iter=1000, C=0.5)\n",
        "model.fit(X_train, y_train)"
      ],
      "metadata": {
        "colab": {
          "base_uri": "https://localhost:8080/",
          "height": 75
        },
        "id": "UNx9gU1LvneC",
        "outputId": "84ca5b63-930d-4e9b-e4d6-b69dcc10fa2c"
      },
      "execution_count": null,
      "outputs": [
        {
          "output_type": "execute_result",
          "data": {
            "text/plain": [
              "LogisticRegression(C=0.5, max_iter=1000)"
            ],
            "text/html": [
              "<style>#sk-container-id-3 {color: black;}#sk-container-id-3 pre{padding: 0;}#sk-container-id-3 div.sk-toggleable {background-color: white;}#sk-container-id-3 label.sk-toggleable__label {cursor: pointer;display: block;width: 100%;margin-bottom: 0;padding: 0.3em;box-sizing: border-box;text-align: center;}#sk-container-id-3 label.sk-toggleable__label-arrow:before {content: \"▸\";float: left;margin-right: 0.25em;color: #696969;}#sk-container-id-3 label.sk-toggleable__label-arrow:hover:before {color: black;}#sk-container-id-3 div.sk-estimator:hover label.sk-toggleable__label-arrow:before {color: black;}#sk-container-id-3 div.sk-toggleable__content {max-height: 0;max-width: 0;overflow: hidden;text-align: left;background-color: #f0f8ff;}#sk-container-id-3 div.sk-toggleable__content pre {margin: 0.2em;color: black;border-radius: 0.25em;background-color: #f0f8ff;}#sk-container-id-3 input.sk-toggleable__control:checked~div.sk-toggleable__content {max-height: 200px;max-width: 100%;overflow: auto;}#sk-container-id-3 input.sk-toggleable__control:checked~label.sk-toggleable__label-arrow:before {content: \"▾\";}#sk-container-id-3 div.sk-estimator input.sk-toggleable__control:checked~label.sk-toggleable__label {background-color: #d4ebff;}#sk-container-id-3 div.sk-label input.sk-toggleable__control:checked~label.sk-toggleable__label {background-color: #d4ebff;}#sk-container-id-3 input.sk-hidden--visually {border: 0;clip: rect(1px 1px 1px 1px);clip: rect(1px, 1px, 1px, 1px);height: 1px;margin: -1px;overflow: hidden;padding: 0;position: absolute;width: 1px;}#sk-container-id-3 div.sk-estimator {font-family: monospace;background-color: #f0f8ff;border: 1px dotted black;border-radius: 0.25em;box-sizing: border-box;margin-bottom: 0.5em;}#sk-container-id-3 div.sk-estimator:hover {background-color: #d4ebff;}#sk-container-id-3 div.sk-parallel-item::after {content: \"\";width: 100%;border-bottom: 1px solid gray;flex-grow: 1;}#sk-container-id-3 div.sk-label:hover label.sk-toggleable__label {background-color: #d4ebff;}#sk-container-id-3 div.sk-serial::before {content: \"\";position: absolute;border-left: 1px solid gray;box-sizing: border-box;top: 0;bottom: 0;left: 50%;z-index: 0;}#sk-container-id-3 div.sk-serial {display: flex;flex-direction: column;align-items: center;background-color: white;padding-right: 0.2em;padding-left: 0.2em;position: relative;}#sk-container-id-3 div.sk-item {position: relative;z-index: 1;}#sk-container-id-3 div.sk-parallel {display: flex;align-items: stretch;justify-content: center;background-color: white;position: relative;}#sk-container-id-3 div.sk-item::before, #sk-container-id-3 div.sk-parallel-item::before {content: \"\";position: absolute;border-left: 1px solid gray;box-sizing: border-box;top: 0;bottom: 0;left: 50%;z-index: -1;}#sk-container-id-3 div.sk-parallel-item {display: flex;flex-direction: column;z-index: 1;position: relative;background-color: white;}#sk-container-id-3 div.sk-parallel-item:first-child::after {align-self: flex-end;width: 50%;}#sk-container-id-3 div.sk-parallel-item:last-child::after {align-self: flex-start;width: 50%;}#sk-container-id-3 div.sk-parallel-item:only-child::after {width: 0;}#sk-container-id-3 div.sk-dashed-wrapped {border: 1px dashed gray;margin: 0 0.4em 0.5em 0.4em;box-sizing: border-box;padding-bottom: 0.4em;background-color: white;}#sk-container-id-3 div.sk-label label {font-family: monospace;font-weight: bold;display: inline-block;line-height: 1.2em;}#sk-container-id-3 div.sk-label-container {text-align: center;}#sk-container-id-3 div.sk-container {/* jupyter's `normalize.less` sets `[hidden] { display: none; }` but bootstrap.min.css set `[hidden] { display: none !important; }` so we also need the `!important` here to be able to override the default hidden behavior on the sphinx rendered scikit-learn.org. See: https://github.com/scikit-learn/scikit-learn/issues/21755 */display: inline-block !important;position: relative;}#sk-container-id-3 div.sk-text-repr-fallback {display: none;}</style><div id=\"sk-container-id-3\" class=\"sk-top-container\"><div class=\"sk-text-repr-fallback\"><pre>LogisticRegression(C=0.5, max_iter=1000)</pre><b>In a Jupyter environment, please rerun this cell to show the HTML representation or trust the notebook. <br />On GitHub, the HTML representation is unable to render, please try loading this page with nbviewer.org.</b></div><div class=\"sk-container\" hidden><div class=\"sk-item\"><div class=\"sk-estimator sk-toggleable\"><input class=\"sk-toggleable__control sk-hidden--visually\" id=\"sk-estimator-id-3\" type=\"checkbox\" checked><label for=\"sk-estimator-id-3\" class=\"sk-toggleable__label sk-toggleable__label-arrow\">LogisticRegression</label><div class=\"sk-toggleable__content\"><pre>LogisticRegression(C=0.5, max_iter=1000)</pre></div></div></div></div></div>"
            ]
          },
          "metadata": {},
          "execution_count": 107
        }
      ]
    },
    {
      "cell_type": "markdown",
      "source": [
        "#Model evaluation"
      ],
      "metadata": {
        "id": "EpAUZxZNw8uy"
      }
    },
    {
      "cell_type": "code",
      "source": [
        "#accuracy score on training data"
      ],
      "metadata": {
        "id": "AO4tZhF9w7rL"
      },
      "execution_count": null,
      "outputs": []
    },
    {
      "cell_type": "code",
      "source": [
        "X_train_prediction=model.predict(X_train)\n",
        "training_data_accuracy=accuracy_score(y_train,X_train_prediction)"
      ],
      "metadata": {
        "id": "w6xrjdBFxGWg"
      },
      "execution_count": null,
      "outputs": []
    },
    {
      "cell_type": "code",
      "source": [],
      "metadata": {
        "id": "DHhVcFLvW2uI"
      },
      "execution_count": null,
      "outputs": []
    },
    {
      "cell_type": "code",
      "source": [
        "print(f\"Accuracy on training data:{training_data_accuracy}\")"
      ],
      "metadata": {
        "colab": {
          "base_uri": "https://localhost:8080/"
        },
        "id": "I1bNPEx7xW_M",
        "outputId": "fa22639b-09b4-4cb8-cf05-ec6f3b2f175f"
      },
      "execution_count": null,
      "outputs": [
        {
          "output_type": "stream",
          "name": "stdout",
          "text": [
            "Accuracy on training data:0.8827046918123275\n"
          ]
        }
      ]
    },
    {
      "cell_type": "code",
      "source": [
        "#accuracy score on test data"
      ],
      "metadata": {
        "id": "_TcxzCc8xzeN"
      },
      "execution_count": null,
      "outputs": []
    },
    {
      "cell_type": "code",
      "source": [
        "y_pred=model.predict(X_test)\n",
        "test_data_accuracy=accuracy_score(y_test,y_pred)"
      ],
      "metadata": {
        "id": "TnQsFxURxzeP"
      },
      "execution_count": null,
      "outputs": []
    },
    {
      "cell_type": "code",
      "source": [
        "print(f\"Accuracy on test data:{test_data_accuracy}\")"
      ],
      "metadata": {
        "outputId": "96c213b6-045a-454a-d90b-d37dfddf670a",
        "colab": {
          "base_uri": "https://localhost:8080/"
        },
        "id": "GlRWgkCExzeP"
      },
      "execution_count": null,
      "outputs": [
        {
          "output_type": "stream",
          "name": "stdout",
          "text": [
            "Accuracy on test data:0.6065\n"
          ]
        }
      ]
    },
    {
      "cell_type": "code",
      "source": [
        "import pickle\n",
        "variable=[X_train,X_test,y_train,y_test]\n",
        "# Save variables\n",
        "with open('/content/variable.pkl', 'wb') as f:\n",
        "    pickle.dump(variable, f)\n",
        "\n"
      ],
      "metadata": {
        "id": "Ns0lQBCnyDE0"
      },
      "execution_count": null,
      "outputs": []
    },
    {
      "cell_type": "code",
      "source": [
        "# Load variable\n",
        "with open('/content/variable.pkl', 'rb') as f:\n",
        "    variable = pickle.load(f)"
      ],
      "metadata": {
        "id": "MzRYM9a65VD2"
      },
      "execution_count": null,
      "outputs": []
    }
  ]
}